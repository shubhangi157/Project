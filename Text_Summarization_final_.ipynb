{
  "nbformat": 4,
  "nbformat_minor": 0,
  "metadata": {
    "colab": {
      "name": "Text_Summarization_final_.ipynb",
      "provenance": [],
      "collapsed_sections": []
    },
    "kernelspec": {
      "name": "python3",
      "display_name": "Python 3"
    },
    "language_info": {
      "name": "python"
    },
    "accelerator": "GPU"
  },
  "cells": [
    {
      "cell_type": "code",
      "metadata": {
        "id": "yFpKdhoBs1k2"
      },
      "source": [
        "from attention import AttentionLayer"
      ],
      "execution_count": 23,
      "outputs": []
    },
    {
      "cell_type": "markdown",
      "metadata": {
        "id": "-lQ49VRH8FJP"
      },
      "source": [
        "Import the libraries"
      ]
    },
    {
      "cell_type": "code",
      "metadata": {
        "id": "MmIoFTieqD4o"
      },
      "source": [
        "import numpy as np\n",
        "import pandas as pd \n",
        "import re\n",
        "from bs4 import BeautifulSoup\n",
        "from keras.preprocessing.text import Tokenizer \n",
        "from keras.preprocessing.sequence import pad_sequences\n",
        "from nltk.corpus import stopwords\n",
        "from tensorflow.keras.layers import Input, LSTM, Embedding, Dense, Concatenate, TimeDistributed\n",
        "from tensorflow.keras.models import Model\n",
        "from tensorflow.keras.callbacks import EarlyStopping\n",
        "import warnings\n",
        "pd.set_option(\"display.max_colwidth\", 200)\n",
        "warnings.filterwarnings(\"ignore\")"
      ],
      "execution_count": 25,
      "outputs": []
    },
    {
      "cell_type": "markdown",
      "metadata": {
        "id": "gQCu70BT8KKF"
      },
      "source": [
        "Read the dataset"
      ]
    },
    {
      "cell_type": "markdown",
      "metadata": {
        "id": "eRR5arB4HHmj"
      },
      "source": [
        "This dataset consists of reviews of fine foods from Amazon."
      ]
    },
    {
      "cell_type": "markdown",
      "metadata": {
        "id": "GtHh4UPVYX5Z"
      },
      "source": [
        "We’ll take a sample of 10,000 reviews to reduce the training time of our model"
      ]
    },
    {
      "cell_type": "code",
      "metadata": {
        "id": "2dUPbdfApN9e"
      },
      "source": [
        "data=pd.read_csv(\"Reviews.csv\",nrows=10000)"
      ],
      "execution_count": 26,
      "outputs": []
    },
    {
      "cell_type": "code",
      "metadata": {
        "colab": {
          "base_uri": "https://localhost:8080/",
          "height": 1000
        },
        "id": "Yyr6bB0t3o-p",
        "outputId": "2761c3d2-cd23-44ea-a276-ff652be2e3a1"
      },
      "source": [
        "data.head()"
      ],
      "execution_count": 27,
      "outputs": [
        {
          "output_type": "execute_result",
          "data": {
            "text/html": [
              "<div>\n",
              "<style scoped>\n",
              "    .dataframe tbody tr th:only-of-type {\n",
              "        vertical-align: middle;\n",
              "    }\n",
              "\n",
              "    .dataframe tbody tr th {\n",
              "        vertical-align: top;\n",
              "    }\n",
              "\n",
              "    .dataframe thead th {\n",
              "        text-align: right;\n",
              "    }\n",
              "</style>\n",
              "<table border=\"1\" class=\"dataframe\">\n",
              "  <thead>\n",
              "    <tr style=\"text-align: right;\">\n",
              "      <th></th>\n",
              "      <th>Id</th>\n",
              "      <th>ProductId</th>\n",
              "      <th>UserId</th>\n",
              "      <th>ProfileName</th>\n",
              "      <th>HelpfulnessNumerator</th>\n",
              "      <th>HelpfulnessDenominator</th>\n",
              "      <th>Score</th>\n",
              "      <th>Time</th>\n",
              "      <th>Summary</th>\n",
              "      <th>Text</th>\n",
              "    </tr>\n",
              "  </thead>\n",
              "  <tbody>\n",
              "    <tr>\n",
              "      <th>0</th>\n",
              "      <td>1</td>\n",
              "      <td>B001E4KFG0</td>\n",
              "      <td>A3SGXH7AUHU8GW</td>\n",
              "      <td>delmartian</td>\n",
              "      <td>1</td>\n",
              "      <td>1</td>\n",
              "      <td>5</td>\n",
              "      <td>1303862400</td>\n",
              "      <td>Good Quality Dog Food</td>\n",
              "      <td>I have bought several of the Vitality canned dog food products and have found them all to be of good quality. The product looks more like a stew than a processed meat and it smells better. My Labr...</td>\n",
              "    </tr>\n",
              "    <tr>\n",
              "      <th>1</th>\n",
              "      <td>2</td>\n",
              "      <td>B00813GRG4</td>\n",
              "      <td>A1D87F6ZCVE5NK</td>\n",
              "      <td>dll pa</td>\n",
              "      <td>0</td>\n",
              "      <td>0</td>\n",
              "      <td>1</td>\n",
              "      <td>1346976000</td>\n",
              "      <td>Not as Advertised</td>\n",
              "      <td>Product arrived labeled as Jumbo Salted Peanuts...the peanuts were actually small sized unsalted. Not sure if this was an error or if the vendor intended to represent the product as \"Jumbo\".</td>\n",
              "    </tr>\n",
              "    <tr>\n",
              "      <th>2</th>\n",
              "      <td>3</td>\n",
              "      <td>B000LQOCH0</td>\n",
              "      <td>ABXLMWJIXXAIN</td>\n",
              "      <td>Natalia Corres \"Natalia Corres\"</td>\n",
              "      <td>1</td>\n",
              "      <td>1</td>\n",
              "      <td>4</td>\n",
              "      <td>1219017600</td>\n",
              "      <td>\"Delight\" says it all</td>\n",
              "      <td>This is a confection that has been around a few centuries.  It is a light, pillowy citrus gelatin with nuts - in this case Filberts. And it is cut into tiny squares and then liberally coated with ...</td>\n",
              "    </tr>\n",
              "    <tr>\n",
              "      <th>3</th>\n",
              "      <td>4</td>\n",
              "      <td>B000UA0QIQ</td>\n",
              "      <td>A395BORC6FGVXV</td>\n",
              "      <td>Karl</td>\n",
              "      <td>3</td>\n",
              "      <td>3</td>\n",
              "      <td>2</td>\n",
              "      <td>1307923200</td>\n",
              "      <td>Cough Medicine</td>\n",
              "      <td>If you are looking for the secret ingredient in Robitussin I believe I have found it.  I got this in addition to the Root Beer Extract I ordered (which was good) and made some cherry soda.  The fl...</td>\n",
              "    </tr>\n",
              "    <tr>\n",
              "      <th>4</th>\n",
              "      <td>5</td>\n",
              "      <td>B006K2ZZ7K</td>\n",
              "      <td>A1UQRSCLF8GW1T</td>\n",
              "      <td>Michael D. Bigham \"M. Wassir\"</td>\n",
              "      <td>0</td>\n",
              "      <td>0</td>\n",
              "      <td>5</td>\n",
              "      <td>1350777600</td>\n",
              "      <td>Great taffy</td>\n",
              "      <td>Great taffy at a great price.  There was a wide assortment of yummy taffy.  Delivery was very quick.  If your a taffy lover, this is a deal.</td>\n",
              "    </tr>\n",
              "  </tbody>\n",
              "</table>\n",
              "</div>"
            ],
            "text/plain": [
              "   Id  ...                                                                                                                                                                                                     Text\n",
              "0   1  ...  I have bought several of the Vitality canned dog food products and have found them all to be of good quality. The product looks more like a stew than a processed meat and it smells better. My Labr...\n",
              "1   2  ...           Product arrived labeled as Jumbo Salted Peanuts...the peanuts were actually small sized unsalted. Not sure if this was an error or if the vendor intended to represent the product as \"Jumbo\".\n",
              "2   3  ...  This is a confection that has been around a few centuries.  It is a light, pillowy citrus gelatin with nuts - in this case Filberts. And it is cut into tiny squares and then liberally coated with ...\n",
              "3   4  ...  If you are looking for the secret ingredient in Robitussin I believe I have found it.  I got this in addition to the Root Beer Extract I ordered (which was good) and made some cherry soda.  The fl...\n",
              "4   5  ...                                                             Great taffy at a great price.  There was a wide assortment of yummy taffy.  Delivery was very quick.  If your a taffy lover, this is a deal.\n",
              "\n",
              "[5 rows x 10 columns]"
            ]
          },
          "metadata": {
            "tags": []
          },
          "execution_count": 27
        }
      ]
    },
    {
      "cell_type": "markdown",
      "metadata": {
        "id": "Xm3akNhc8OaV"
      },
      "source": [
        "Drop Duplicates and NA values"
      ]
    },
    {
      "cell_type": "code",
      "metadata": {
        "id": "UCNCO2MZpiXf"
      },
      "source": [
        "data.drop_duplicates(subset=['Text'],inplace=True)#dropping duplicates\n",
        "data.dropna(axis=0,inplace=True)#dropping na"
      ],
      "execution_count": 28,
      "outputs": []
    },
    {
      "cell_type": "markdown",
      "metadata": {
        "id": "GOAfokty8U6G"
      },
      "source": [
        "Information about dataset"
      ]
    },
    {
      "cell_type": "code",
      "metadata": {
        "colab": {
          "base_uri": "https://localhost:8080/"
        },
        "id": "_Jh83VYLpxJE",
        "outputId": "fd3e6f14-5885-45e5-b7df-580ac7f4b61b"
      },
      "source": [
        "data.info()"
      ],
      "execution_count": 29,
      "outputs": [
        {
          "output_type": "stream",
          "text": [
            "<class 'pandas.core.frame.DataFrame'>\n",
            "Int64Index: 9513 entries, 0 to 9999\n",
            "Data columns (total 10 columns):\n",
            " #   Column                  Non-Null Count  Dtype \n",
            "---  ------                  --------------  ----- \n",
            " 0   Id                      9513 non-null   int64 \n",
            " 1   ProductId               9513 non-null   object\n",
            " 2   UserId                  9513 non-null   object\n",
            " 3   ProfileName             9513 non-null   object\n",
            " 4   HelpfulnessNumerator    9513 non-null   int64 \n",
            " 5   HelpfulnessDenominator  9513 non-null   int64 \n",
            " 6   Score                   9513 non-null   int64 \n",
            " 7   Time                    9513 non-null   int64 \n",
            " 8   Summary                 9513 non-null   object\n",
            " 9   Text                    9513 non-null   object\n",
            "dtypes: int64(5), object(5)\n",
            "memory usage: 817.5+ KB\n"
          ],
          "name": "stdout"
        }
      ]
    },
    {
      "cell_type": "markdown",
      "metadata": {
        "id": "YyreZgv68Y90"
      },
      "source": [
        "Preprocessing"
      ]
    },
    {
      "cell_type": "code",
      "metadata": {
        "id": "QdSmcVpuqbO6"
      },
      "source": [
        "contraction_mapping = {\"ain't\": \"is not\", \"aren't\": \"are not\",\"can't\": \"cannot\", \"'cause\": \"because\", \"could've\": \"could have\", \"couldn't\": \"could not\",\n",
        "                           \"didn't\": \"did not\",  \"doesn't\": \"does not\", \"don't\": \"do not\", \"hadn't\": \"had not\", \"hasn't\": \"has not\", \"haven't\": \"have not\",\n",
        "                           \"he'd\": \"he would\",\"he'll\": \"he will\", \"he's\": \"he is\", \"how'd\": \"how did\", \"how'd'y\": \"how do you\", \"how'll\": \"how will\", \"how's\": \"how is\",\n",
        "                           \"I'd\": \"I would\", \"I'd've\": \"I would have\", \"I'll\": \"I will\", \"I'll've\": \"I will have\",\"I'm\": \"I am\", \"I've\": \"I have\", \"i'd\": \"i would\",\n",
        "                           \"i'd've\": \"i would have\", \"i'll\": \"i will\",  \"i'll've\": \"i will have\",\"i'm\": \"i am\", \"i've\": \"i have\", \"isn't\": \"is not\", \"it'd\": \"it would\",\n",
        "                           \"it'd've\": \"it would have\", \"it'll\": \"it will\", \"it'll've\": \"it will have\",\"it's\": \"it is\", \"let's\": \"let us\", \"ma'am\": \"madam\",\n",
        "                           \"mayn't\": \"may not\", \"might've\": \"might have\",\"mightn't\": \"might not\",\"mightn't've\": \"might not have\", \"must've\": \"must have\",\n",
        "                           \"mustn't\": \"must not\", \"mustn't've\": \"must not have\", \"needn't\": \"need not\", \"needn't've\": \"need not have\",\"o'clock\": \"of the clock\",\n",
        "                           \"oughtn't\": \"ought not\", \"oughtn't've\": \"ought not have\", \"shan't\": \"shall not\", \"sha'n't\": \"shall not\", \"shan't've\": \"shall not have\",\n",
        "                           \"she'd\": \"she would\", \"she'd've\": \"she would have\", \"she'll\": \"she will\", \"she'll've\": \"she will have\", \"she's\": \"she is\",\n",
        "                           \"should've\": \"should have\", \"shouldn't\": \"should not\", \"shouldn't've\": \"should not have\", \"so've\": \"so have\",\"so's\": \"so as\",\n",
        "                           \"this's\": \"this is\",\"that'd\": \"that would\", \"that'd've\": \"that would have\", \"that's\": \"that is\", \"there'd\": \"there would\",\n",
        "                           \"there'd've\": \"there would have\", \"there's\": \"there is\", \"here's\": \"here is\",\"they'd\": \"they would\", \"they'd've\": \"they would have\",\n",
        "                           \"they'll\": \"they will\", \"they'll've\": \"they will have\", \"they're\": \"they are\", \"they've\": \"they have\", \"to've\": \"to have\",\n",
        "                           \"wasn't\": \"was not\", \"we'd\": \"we would\", \"we'd've\": \"we would have\", \"we'll\": \"we will\", \"we'll've\": \"we will have\", \"we're\": \"we are\",\n",
        "                           \"we've\": \"we have\", \"weren't\": \"were not\", \"what'll\": \"what will\", \"what'll've\": \"what will have\", \"what're\": \"what are\",\n",
        "                           \"what's\": \"what is\", \"what've\": \"what have\", \"when's\": \"when is\", \"when've\": \"when have\", \"where'd\": \"where did\", \"where's\": \"where is\",\n",
        "                           \"where've\": \"where have\", \"who'll\": \"who will\", \"who'll've\": \"who will have\", \"who's\": \"who is\", \"who've\": \"who have\",\n",
        "                           \"why's\": \"why is\", \"why've\": \"why have\", \"will've\": \"will have\", \"won't\": \"will not\", \"won't've\": \"will not have\",\n",
        "                           \"would've\": \"would have\", \"wouldn't\": \"would not\", \"wouldn't've\": \"would not have\", \"y'all\": \"you all\",\n",
        "                           \"y'all'd\": \"you all would\",\"y'all'd've\": \"you all would have\",\"y'all're\": \"you all are\",\"y'all've\": \"you all have\",\n",
        "                           \"you'd\": \"you would\", \"you'd've\": \"you would have\", \"you'll\": \"you will\", \"you'll've\": \"you will have\",\n",
        "                           \"you're\": \"you are\", \"you've\": \"you have\"}"
      ],
      "execution_count": 30,
      "outputs": []
    },
    {
      "cell_type": "markdown",
      "metadata": {
        "id": "C8vy2KZy8mWX"
      },
      "source": [
        "We will perform the below preprocessing tasks for our data:\n",
        "\n",
        "1.Convert everything to lowercase\n",
        "\n",
        "2.Remove HTML tags\n",
        "\n",
        "3.Contraction mapping\n",
        "\n",
        "4.Remove (‘s)\n",
        "\n",
        "5.Remove any text inside the parenthesis ( )\n",
        "\n",
        "6.Eliminate punctuations and special characters\n",
        "\n",
        "7.Remove stopwords\n",
        "\n",
        "8.Remove short words\n",
        "\n",
        "Let’s define the function:"
      ]
    },
    {
      "cell_type": "code",
      "metadata": {
        "colab": {
          "base_uri": "https://localhost:8080/"
        },
        "id": "xc0ac_HaqoQ_",
        "outputId": "c4d2e401-506d-4b73-c1d0-5898a7f54600"
      },
      "source": [
        "import nltk\n",
        "nltk.download('stopwords')"
      ],
      "execution_count": 31,
      "outputs": [
        {
          "output_type": "stream",
          "text": [
            "[nltk_data] Downloading package stopwords to /root/nltk_data...\n",
            "[nltk_data]   Package stopwords is already up-to-date!\n"
          ],
          "name": "stdout"
        },
        {
          "output_type": "execute_result",
          "data": {
            "text/plain": [
              "True"
            ]
          },
          "metadata": {
            "tags": []
          },
          "execution_count": 31
        }
      ]
    },
    {
      "cell_type": "code",
      "metadata": {
        "id": "bOopLVVvql8T"
      },
      "source": [
        "stop_words = set(stopwords.words('english')) \n",
        "\n",
        "def text_cleaner(text,num):\n",
        "    newString = text.lower()\n",
        "    newString = BeautifulSoup(newString, \"lxml\").text\n",
        "    newString = re.sub(r'\\([^)]*\\)', '', newString)\n",
        "    newString = re.sub('\"','', newString)\n",
        "    newString = ' '.join([contraction_mapping[t] if t in contraction_mapping else t for t in newString.split(\" \")])    \n",
        "    newString = re.sub(r\"'s\\b\",\"\",newString)\n",
        "    newString = re.sub(\"[^a-zA-Z]\", \" \", newString) \n",
        "    newString = re.sub('[m]{2,}', 'mm', newString)\n",
        "    if(num==0):\n",
        "        tokens = [w for w in newString.split() if not w in stop_words]\n",
        "    else:\n",
        "        tokens=newString.split()\n",
        "    long_words=[]\n",
        "    for i in tokens:\n",
        "        if len(i)>1:                                                 #removing short word\n",
        "            long_words.append(i)   \n",
        "    return (\" \".join(long_words)).strip()"
      ],
      "execution_count": 32,
      "outputs": []
    },
    {
      "cell_type": "code",
      "metadata": {
        "id": "io9HKsp1q11t"
      },
      "source": [
        "#call the function\n",
        "cleaned_text = []\n",
        "for t in data['Text']:\n",
        "    cleaned_text.append(text_cleaner(t,0)) "
      ],
      "execution_count": 33,
      "outputs": []
    },
    {
      "cell_type": "markdown",
      "metadata": {
        "id": "3Eb5hh-g8vfc"
      },
      "source": [
        "Let us look at the first five preprocessed reviews"
      ]
    },
    {
      "cell_type": "code",
      "metadata": {
        "colab": {
          "base_uri": "https://localhost:8080/"
        },
        "id": "xuKv8lq9q4tE",
        "outputId": "f57d7ebc-223b-4c79-ce18-b13c0098d633"
      },
      "source": [
        "cleaned_text[:5]  "
      ],
      "execution_count": 34,
      "outputs": [
        {
          "output_type": "execute_result",
          "data": {
            "text/plain": [
              "['bought several vitality canned dog food products found good quality product looks like stew processed meat smells better labrador finicky appreciates product better',\n",
              " 'product arrived labeled jumbo salted peanuts peanuts actually small sized unsalted sure error vendor intended represent product jumbo',\n",
              " 'confection around centuries light pillowy citrus gelatin nuts case filberts cut tiny squares liberally coated powdered sugar tiny mouthful heaven chewy flavorful highly recommend yummy treat familiar story lewis lion witch wardrobe treat seduces edmund selling brother sisters witch',\n",
              " 'looking secret ingredient robitussin believe found got addition root beer extract ordered made cherry soda flavor medicinal',\n",
              " 'great taffy great price wide assortment yummy taffy delivery quick taffy lover deal']"
            ]
          },
          "metadata": {
            "tags": []
          },
          "execution_count": 34
        }
      ]
    },
    {
      "cell_type": "code",
      "metadata": {
        "id": "h9dAG_9Fq85H"
      },
      "source": [
        "#call the function\n",
        "cleaned_summary = []\n",
        "for t in data['Summary']:\n",
        "    cleaned_summary.append(text_cleaner(t,1))"
      ],
      "execution_count": 35,
      "outputs": []
    },
    {
      "cell_type": "markdown",
      "metadata": {
        "id": "9uyz3CFm813E"
      },
      "source": [
        "Let us look at the first 10 preprocessed summaries"
      ]
    },
    {
      "cell_type": "code",
      "metadata": {
        "colab": {
          "base_uri": "https://localhost:8080/"
        },
        "id": "iYZMueK6rBZ5",
        "outputId": "5fc94b98-4e0f-471d-bae8-b1a2dd353a0b"
      },
      "source": [
        "cleaned_summary[:10]"
      ],
      "execution_count": 36,
      "outputs": [
        {
          "output_type": "execute_result",
          "data": {
            "text/plain": [
              "['good quality dog food',\n",
              " 'not as advertised',\n",
              " 'delight says it all',\n",
              " 'cough medicine',\n",
              " 'great taffy',\n",
              " 'nice taffy',\n",
              " 'great just as good as the expensive brands',\n",
              " 'wonderful tasty taffy',\n",
              " 'yay barley',\n",
              " 'healthy dog food']"
            ]
          },
          "metadata": {
            "tags": []
          },
          "execution_count": 36
        }
      ]
    },
    {
      "cell_type": "code",
      "metadata": {
        "id": "VHkbgeMRrEj4"
      },
      "source": [
        "data['cleaned_text']=cleaned_text\n",
        "data['cleaned_summary']=cleaned_summary"
      ],
      "execution_count": 37,
      "outputs": []
    },
    {
      "cell_type": "markdown",
      "metadata": {
        "id": "d6qi1vtG87sN"
      },
      "source": [
        "Drop empty rows"
      ]
    },
    {
      "cell_type": "code",
      "metadata": {
        "id": "hoFC17TBrKHr"
      },
      "source": [
        "data.replace('', np.nan, inplace=True)\n",
        "data.dropna(axis=0,inplace=True)"
      ],
      "execution_count": 38,
      "outputs": []
    },
    {
      "cell_type": "markdown",
      "metadata": {
        "id": "iQBEnJXw9Jjt"
      },
      "source": [
        "Understanding the distribution of the sequences"
      ]
    },
    {
      "cell_type": "markdown",
      "metadata": {
        "id": "bAMsd_j7-pWT"
      },
      "source": [
        "Here, we will analyze the length of the reviews and the summary to get an overall idea about the distribution of length of the text."
      ]
    },
    {
      "cell_type": "code",
      "metadata": {
        "colab": {
          "base_uri": "https://localhost:8080/",
          "height": 281
        },
        "id": "jRrNeczsrOwj",
        "outputId": "e1c21cc1-322f-44e8-dbb5-6b32a28a7b31"
      },
      "source": [
        "import matplotlib.pyplot as plt\n",
        "\n",
        "text_word_count = []\n",
        "summary_word_count = []\n",
        "\n",
        "# populate the lists with sentence lengths\n",
        "for i in data['cleaned_text']:\n",
        "      text_word_count.append(len(i.split()))\n",
        "\n",
        "for i in data['cleaned_summary']:\n",
        "      summary_word_count.append(len(i.split()))\n",
        "\n",
        "length_df = pd.DataFrame({'text':text_word_count, 'summary':summary_word_count})\n",
        "\n",
        "length_df.hist(bins = 30)\n",
        "plt.show()"
      ],
      "execution_count": 39,
      "outputs": [
        {
          "output_type": "display_data",
          "data": {
            "image/png": "[encoded data removed]",
            "text/plain": [
              "<Figure size 432x288 with 2 Axes>"
            ]
          },
          "metadata": {
            "tags": [],
            "needs_background": "light"
          }
        }
      ]
    },
    {
      "cell_type": "markdown",
      "metadata": {
        "id": "XUaXjwUED8cr"
      },
      "source": [
        "We can fix the maximum length of the summary to 8 since that seems to be the majority summary length."
      ]
    },
    {
      "cell_type": "markdown",
      "metadata": {
        "id": "aTiydGc99dau"
      },
      "source": [
        "Let us understand the proportion of the length of summaries below 8"
      ]
    },
    {
      "cell_type": "code",
      "metadata": {
        "colab": {
          "base_uri": "https://localhost:8080/"
        },
        "id": "pwfbsnesrWfC",
        "outputId": "84d08289-e13c-49d7-81f7-8b68f1b32e29"
      },
      "source": [
        "cnt=0\n",
        "for i in data['cleaned_summary']:\n",
        "    if(len(i.split())<=8):\n",
        "        cnt=cnt+1\n",
        "print(cnt/len(data['cleaned_summary']))"
      ],
      "execution_count": 40,
      "outputs": [
        {
          "output_type": "stream",
          "text": [
            "0.9465544450289322\n"
          ],
          "name": "stdout"
        }
      ]
    },
    {
      "cell_type": "markdown",
      "metadata": {
        "id": "-iXLqKKz970m"
      },
      "source": [
        "We observe that 94% of the summaries have length below 8. So, we can fix maximum length of summary to 8.\n",
        "\n",
        "Let us fix the maximum length of review to 30"
      ]
    },
    {
      "cell_type": "code",
      "metadata": {
        "id": "RfDz3CjCrfxr"
      },
      "source": [
        "max_text_len=30\n",
        "max_summary_len=8"
      ],
      "execution_count": 41,
      "outputs": []
    },
    {
      "cell_type": "markdown",
      "metadata": {
        "id": "PJNPc6i5-EOW"
      },
      "source": [
        "Let us select the reviews and summaries whose length falls below or equal to max_text_len and max_summary_len"
      ]
    },
    {
      "cell_type": "code",
      "metadata": {
        "id": "XcJHmS2erhtw"
      },
      "source": [
        "cleaned_text =np.array(data['cleaned_text'])\n",
        "cleaned_summary=np.array(data['cleaned_summary'])\n",
        "\n",
        "short_text=[]\n",
        "short_summary=[]\n",
        "\n",
        "for i in range(len(cleaned_text)):\n",
        "    if(len(cleaned_summary[i].split())<=max_summary_len and len(cleaned_text[i].split())<=max_text_len):\n",
        "        short_text.append(cleaned_text[i])\n",
        "        short_summary.append(cleaned_summary[i])\n",
        "        \n",
        "df=pd.DataFrame({'text':short_text,'summary':short_summary})"
      ],
      "execution_count": 42,
      "outputs": []
    },
    {
      "cell_type": "markdown",
      "metadata": {
        "id": "QY7HhNYs-mhC"
      },
      "source": [
        "We add the START and END special tokens at the beginning and end of the summary. Here, we have chosen sostok and eostok as START and END tokens"
      ]
    },
    {
      "cell_type": "code",
      "metadata": {
        "id": "zAMGqJdzrmcX"
      },
      "source": [
        "df['summary'] = df['summary'].apply(lambda x : 'sostok '+ x + ' eostok')"
      ],
      "execution_count": 43,
      "outputs": []
    },
    {
      "cell_type": "markdown",
      "metadata": {
        "id": "AenyzVRR_Z9F"
      },
      "source": [
        "We are building the model. Before that, we need to split our dataset into a training and validation set."
      ]
    },
    {
      "cell_type": "code",
      "metadata": {
        "id": "_3aAUiMxrtAk"
      },
      "source": [
        "from sklearn.model_selection import train_test_split\n",
        "x_tr,x_val,y_tr,y_val=train_test_split(np.array(df['text']),np.array(df['summary']),test_size=0.1,random_state=0,shuffle=True) "
      ],
      "execution_count": 44,
      "outputs": []
    },
    {
      "cell_type": "markdown",
      "metadata": {
        "id": "v9o7KWvn_mG1"
      },
      "source": [
        "Preparing the Tokenizer\n",
        "A tokenizer builds the vocabulary and converts a word sequence to an integer sequence."
      ]
    },
    {
      "cell_type": "markdown",
      "metadata": {
        "id": "wDG7XNVXAaVP"
      },
      "source": [
        "Text Tokenizer"
      ]
    },
    {
      "cell_type": "code",
      "metadata": {
        "id": "leP5Y4ooryCI"
      },
      "source": [
        "from keras.preprocessing.text import Tokenizer \n",
        "from keras.preprocessing.sequence import pad_sequences\n",
        "\n",
        "#prepare a tokenizer for reviews on training data\n",
        "x_tokenizer = Tokenizer() \n",
        "x_tokenizer.fit_on_texts(list(x_tr))"
      ],
      "execution_count": 45,
      "outputs": []
    },
    {
      "cell_type": "markdown",
      "metadata": {
        "id": "xk9eWgb9_6ot"
      },
      "source": [
        "Rarewords and its Coverage\n",
        "Here, we are defining the threshold to be 4 which means word whose count is below 4 is considered as a rare word"
      ]
    },
    {
      "cell_type": "code",
      "metadata": {
        "colab": {
          "base_uri": "https://localhost:8080/"
        },
        "id": "hovW9U67r2ry",
        "outputId": "50de431b-58e7-4311-ee15-dc0f6356bffb"
      },
      "source": [
        "thresh=4\n",
        "cnt=0\n",
        "tot_cnt=0\n",
        "freq=0\n",
        "tot_freq=0\n",
        "\n",
        "for key,value in x_tokenizer.word_counts.items():\n",
        "    tot_cnt=tot_cnt+1\n",
        "    tot_freq=tot_freq+value\n",
        "    if(value<thresh):\n",
        "        cnt=cnt+1\n",
        "        freq=freq+value\n",
        "    \n",
        "print(\"% of rare words in vocabulary:\",(cnt/tot_cnt)*100)\n",
        "print(\"Total Coverage of rare words:\",(freq/tot_freq)*100)\n"
      ],
      "execution_count": 46,
      "outputs": [
        {
          "output_type": "stream",
          "text": [
            "% of rare words in vocabulary: 68.39143730886849\n",
            "Total Coverage of rare words: 9.150849382372709\n"
          ],
          "name": "stdout"
        }
      ]
    },
    {
      "cell_type": "markdown",
      "metadata": {
        "id": "-gBuZU4VAM0r"
      },
      "source": [
        "->tot_cnt gives the size of vocabulary (which means every unique words in the text)\n",
        "\n",
        "->cnt gives me the no. of rare words whose count falls below threshold\n",
        "\n",
        "->tot_cnt - cnt gives me the top most common words\n",
        "\n",
        "Let us define the tokenizer with top most common words for reviews."
      ]
    },
    {
      "cell_type": "code",
      "metadata": {
        "id": "0vshuxi5sGk6"
      },
      "source": [
        "#prepare a tokenizer for reviews on training data\n",
        "x_tokenizer = Tokenizer(num_words=tot_cnt-cnt) \n",
        "x_tokenizer.fit_on_texts(list(x_tr))\n",
        "\n",
        "#convert text sequences into integer sequences\n",
        "x_tr_seq    =   x_tokenizer.texts_to_sequences(x_tr) \n",
        "x_val_seq   =   x_tokenizer.texts_to_sequences(x_val)\n",
        "\n",
        "#padding zero upto maximum length\n",
        "x_tr    =   pad_sequences(x_tr_seq,  maxlen=max_text_len, padding='post')\n",
        "x_val   =   pad_sequences(x_val_seq, maxlen=max_text_len, padding='post')\n",
        "\n",
        "#size of vocabulary ( +1 for padding token)\n",
        "x_voc   =  x_tokenizer.num_words + 1"
      ],
      "execution_count": 47,
      "outputs": []
    },
    {
      "cell_type": "code",
      "metadata": {
        "colab": {
          "base_uri": "https://localhost:8080/"
        },
        "id": "96yZ-sf3sNLX",
        "outputId": "a748f655-5df6-4c16-e7b8-061f8687312d"
      },
      "source": [
        "x_voc"
      ],
      "execution_count": 48,
      "outputs": [
        {
          "output_type": "execute_result",
          "data": {
            "text/plain": [
              "2585"
            ]
          },
          "metadata": {
            "tags": []
          },
          "execution_count": 48
        }
      ]
    },
    {
      "cell_type": "markdown",
      "metadata": {
        "id": "TxN6M6aDAhHc"
      },
      "source": [
        "Summary Tokenizer"
      ]
    },
    {
      "cell_type": "code",
      "metadata": {
        "id": "THHQPrsEsQ_l"
      },
      "source": [
        "#prepare a tokenizer for reviews on training data\n",
        "y_tokenizer = Tokenizer()   \n",
        "y_tokenizer.fit_on_texts(list(y_tr))"
      ],
      "execution_count": 49,
      "outputs": []
    },
    {
      "cell_type": "markdown",
      "metadata": {
        "id": "eBSd39PlAnkF"
      },
      "source": [
        "Rarewords and its Coverage\n",
        "Here, we are defining the threshold to be 6 which means word whose count is below 6 is considered as a rare word"
      ]
    },
    {
      "cell_type": "code",
      "metadata": {
        "colab": {
          "base_uri": "https://localhost:8080/"
        },
        "id": "t4bFGwnIsVxZ",
        "outputId": "669e6a7d-0b0c-44fd-ddb8-015999fc345e"
      },
      "source": [
        "thresh=6\n",
        "\n",
        "cnt=0\n",
        "tot_cnt=0\n",
        "freq=0\n",
        "tot_freq=0\n",
        "\n",
        "for key,value in y_tokenizer.word_counts.items():\n",
        "    tot_cnt=tot_cnt+1\n",
        "    tot_freq=tot_freq+value\n",
        "    if(value<thresh):\n",
        "        cnt=cnt+1\n",
        "        freq=freq+value\n",
        "    \n",
        "print(\"% of rare words in vocabulary:\",(cnt/tot_cnt)*100)\n",
        "print(\"Total Coverage of rare words:\",(freq/tot_freq)*100)"
      ],
      "execution_count": 50,
      "outputs": [
        {
          "output_type": "stream",
          "text": [
            "% of rare words in vocabulary: 84.49258836944128\n",
            "Total Coverage of rare words: 14.563302087943034\n"
          ],
          "name": "stdout"
        }
      ]
    },
    {
      "cell_type": "markdown",
      "metadata": {
        "id": "0J0q6ueFAyhU"
      },
      "source": [
        "Let us define the tokenizer with top most common words for summary."
      ]
    },
    {
      "cell_type": "code",
      "metadata": {
        "id": "kkK8WpQIsbyB"
      },
      "source": [
        "#prepare a tokenizer for reviews on training data\n",
        "y_tokenizer = Tokenizer(num_words=tot_cnt-cnt) \n",
        "y_tokenizer.fit_on_texts(list(y_tr))\n",
        "\n",
        "#convert text sequences into integer sequences\n",
        "y_tr_seq    =   y_tokenizer.texts_to_sequences(y_tr) \n",
        "y_val_seq   =   y_tokenizer.texts_to_sequences(y_val) \n",
        "\n",
        "#padding zero upto maximum length\n",
        "y_tr    =   pad_sequences(y_tr_seq, maxlen=max_summary_len, padding='post')\n",
        "y_val   =   pad_sequences(y_val_seq, maxlen=max_summary_len, padding='post')\n",
        "\n",
        "#size of vocabulary\n",
        "y_voc  =   y_tokenizer.num_words +1"
      ],
      "execution_count": 51,
      "outputs": []
    },
    {
      "cell_type": "markdown",
      "metadata": {
        "id": "Jd1rFut8A3T8"
      },
      "source": [
        "Let us check whether word count of start token is equal to length of the training data"
      ]
    },
    {
      "cell_type": "code",
      "metadata": {
        "colab": {
          "base_uri": "https://localhost:8080/"
        },
        "id": "qlMMpj1Tsgcq",
        "outputId": "180413cb-272f-42c9-e6e5-2eaf7155289a"
      },
      "source": [
        "y_tokenizer.word_counts['sostok'],len(y_tr) "
      ],
      "execution_count": 52,
      "outputs": [
        {
          "output_type": "execute_result",
          "data": {
            "text/plain": [
              "(4772, 4772)"
            ]
          },
          "metadata": {
            "tags": []
          },
          "execution_count": 52
        }
      ]
    },
    {
      "cell_type": "markdown",
      "metadata": {
        "id": "7Ax7Vb9rA_Sl"
      },
      "source": [
        "Here, I am deleting the rows that contain only START and END tokens"
      ]
    },
    {
      "cell_type": "code",
      "metadata": {
        "id": "enmbOOdgskju"
      },
      "source": [
        "ind=[]\n",
        "for i in range(len(y_tr)):\n",
        "    cnt=0\n",
        "    for j in y_tr[i]:\n",
        "        if j!=0:\n",
        "            cnt=cnt+1\n",
        "    if(cnt==2):\n",
        "        ind.append(i)\n",
        "\n",
        "y_tr=np.delete(y_tr,ind, axis=0)\n",
        "x_tr=np.delete(x_tr,ind, axis=0)"
      ],
      "execution_count": 53,
      "outputs": []
    },
    {
      "cell_type": "code",
      "metadata": {
        "id": "KECiGlcispZ0"
      },
      "source": [
        "ind=[]\n",
        "for i in range(len(y_val)):\n",
        "    cnt=0\n",
        "    for j in y_val[i]:\n",
        "        if j!=0:\n",
        "            cnt=cnt+1\n",
        "    if(cnt==2):\n",
        "        ind.append(i)\n",
        "\n",
        "y_val=np.delete(y_val,ind, axis=0)\n",
        "x_val=np.delete(x_val,ind, axis=0)"
      ],
      "execution_count": 54,
      "outputs": []
    },
    {
      "cell_type": "markdown",
      "metadata": {
        "id": "-MK4KZ0RBLjZ"
      },
      "source": [
        "Model building"
      ]
    },
    {
      "cell_type": "markdown",
      "metadata": {
        "id": "032yodM3Bf6P"
      },
      "source": [
        "**Return Sequences** = True: When the return sequences parameter is set to True, LSTM produces the hidden state and cell state for every timestep\n",
        "\n",
        "**Return State** = True: When return state = True, LSTM produces the hidden state and cell state of the last timestep only\n",
        "\n",
        "**Initial State**: This is used to initialize the internal states of the LSTM for the first timestep\n",
        "\n",
        "**Stacked LSTM:** Stacked LSTM has multiple layers of LSTM stacked on top of each other. This leads to a better representation of the sequence."
      ]
    },
    {
      "cell_type": "code",
      "metadata": {
        "colab": {
          "base_uri": "https://localhost:8080/"
        },
        "id": "yegNQgLysuH9",
        "outputId": "eedfd6eb-d0e9-4591-f725-89c03df1580f"
      },
      "source": [
        "from keras import backend as K \n",
        "K.clear_session()\n",
        "\n",
        "latent_dim = 300\n",
        "embedding_dim=100\n",
        "\n",
        "# Encoder\n",
        "encoder_inputs = Input(shape=(max_text_len,))\n",
        "\n",
        "#embedding layer\n",
        "enc_emb =  Embedding(x_voc, embedding_dim,trainable=True)(encoder_inputs)\n",
        "\n",
        "#encoder lstm 1\n",
        "encoder_lstm1 = LSTM(latent_dim,return_sequences=True,return_state=True,dropout=0.4,recurrent_dropout=0.4)\n",
        "encoder_output1, state_h1, state_c1 = encoder_lstm1(enc_emb)\n",
        "\n",
        "#encoder lstm 2\n",
        "encoder_lstm2 = LSTM(latent_dim,return_sequences=True,return_state=True,dropout=0.4,recurrent_dropout=0.4)\n",
        "encoder_output2, state_h2, state_c2 = encoder_lstm2(encoder_output1)\n",
        "\n",
        "#encoder lstm 3\n",
        "encoder_lstm3=LSTM(latent_dim, return_state=True, return_sequences=True,dropout=0.4,recurrent_dropout=0.4)\n",
        "encoder_outputs, state_h, state_c= encoder_lstm3(encoder_output2)\n",
        "\n",
        "# Set up the decoder, using `encoder_states` as initial state.\n",
        "decoder_inputs = Input(shape=(None,))\n",
        "\n",
        "#embedding layer\n",
        "dec_emb_layer = Embedding(y_voc, embedding_dim,trainable=True)\n",
        "dec_emb = dec_emb_layer(decoder_inputs)\n",
        "\n",
        "decoder_lstm = LSTM(latent_dim, return_sequences=True, return_state=True,dropout=0.4,recurrent_dropout=0.2)\n",
        "decoder_outputs,decoder_fwd_state, decoder_back_state = decoder_lstm(dec_emb,initial_state=[state_h, state_c])\n",
        "\n",
        "# Attention layer\n",
        "attn_layer = AttentionLayer(name='attention_layer')\n",
        "attn_out, attn_states = attn_layer([encoder_outputs, decoder_outputs])\n",
        "\n",
        "# Concat attention input and decoder LSTM output\n",
        "decoder_concat_input = Concatenate(axis=-1, name='concat_layer')([decoder_outputs, attn_out])\n",
        "\n",
        "#dense layer\n",
        "decoder_dense =  TimeDistributed(Dense(y_voc, activation='softmax'))\n",
        "decoder_outputs = decoder_dense(decoder_concat_input)\n",
        "\n",
        "# Define the model \n",
        "model = Model([encoder_inputs, decoder_inputs], decoder_outputs)\n",
        "\n",
        "model.summary() "
      ],
      "execution_count": 55,
      "outputs": [
        {
          "output_type": "stream",
          "text": [
            "Model: \"model\"\n",
            "__________________________________________________________________________________________________\n",
            "Layer (type)                    Output Shape         Param #     Connected to                     \n",
            "==================================================================================================\n",
            "input_1 (InputLayer)            [(None, 30)]         0                                            \n",
            "__________________________________________________________________________________________________\n",
            "embedding (Embedding)           (None, 30, 100)      258500      input_1[0][0]                    \n",
            "__________________________________________________________________________________________________\n",
            "lstm (LSTM)                     [(None, 30, 300), (N 481200      embedding[0][0]                  \n",
            "__________________________________________________________________________________________________\n",
            "input_2 (InputLayer)            [(None, None)]       0                                            \n",
            "__________________________________________________________________________________________________\n",
            "lstm_1 (LSTM)                   [(None, 30, 300), (N 721200      lstm[0][0]                       \n",
            "__________________________________________________________________________________________________\n",
            "embedding_1 (Embedding)         (None, None, 100)    40900       input_2[0][0]                    \n",
            "__________________________________________________________________________________________________\n",
            "lstm_2 (LSTM)                   [(None, 30, 300), (N 721200      lstm_1[0][0]                     \n",
            "__________________________________________________________________________________________________\n",
            "lstm_3 (LSTM)                   [(None, None, 300),  481200      embedding_1[0][0]                \n",
            "                                                                 lstm_2[0][1]                     \n",
            "                                                                 lstm_2[0][2]                     \n",
            "__________________________________________________________________________________________________\n",
            "attention_layer (AttentionLayer ((None, None, 300),  180300      lstm_2[0][0]                     \n",
            "                                                                 lstm_3[0][0]                     \n",
            "__________________________________________________________________________________________________\n",
            "concat_layer (Concatenate)      (None, None, 600)    0           lstm_3[0][0]                     \n",
            "                                                                 attention_layer[0][0]            \n",
            "__________________________________________________________________________________________________\n",
            "time_distributed (TimeDistribut (None, None, 409)    245809      concat_layer[0][0]               \n",
            "==================================================================================================\n",
            "Total params: 3,130,309\n",
            "Trainable params: 3,130,309\n",
            "Non-trainable params: 0\n",
            "__________________________________________________________________________________________________\n"
          ],
          "name": "stdout"
        }
      ]
    },
    {
      "cell_type": "markdown",
      "metadata": {
        "id": "Pi8rc28RBaT8"
      },
      "source": [
        "we are using sparse categorical cross-entropy as the loss function since it converts the integer sequence to a one-hot vector on the fly. This overcomes any memory issues."
      ]
    },
    {
      "cell_type": "code",
      "metadata": {
        "id": "s-gMW4x2s-Xu"
      },
      "source": [
        "model.compile(optimizer='rmsprop', loss='sparse_categorical_crossentropy')"
      ],
      "execution_count": 56,
      "outputs": []
    },
    {
      "cell_type": "markdown",
      "metadata": {
        "id": "zhhWD57IBpsd"
      },
      "source": [
        "Here, we are monitoring the validation loss (val_loss). Our model will stop training once the validation loss increases"
      ]
    },
    {
      "cell_type": "code",
      "metadata": {
        "id": "pP70xoYvtJ_k"
      },
      "source": [
        "es = EarlyStopping(monitor='val_loss', mode='min', verbose=1,patience=2)"
      ],
      "execution_count": 57,
      "outputs": []
    },
    {
      "cell_type": "markdown",
      "metadata": {
        "id": "hqVAbgVsB3Nu"
      },
      "source": [
        "We’ll train the model on a batch size of 128 and validate it on the holdout set (which is 10% of our dataset):"
      ]
    },
    {
      "cell_type": "code",
      "metadata": {
        "colab": {
          "base_uri": "https://localhost:8080/"
        },
        "id": "WdWCWQzrtNJl",
        "outputId": "ad7deddd-fe4d-45d4-cace-0bcfe8d4c86e"
      },
      "source": [
        "history=model.fit([x_tr,y_tr[:,:-1]], y_tr.reshape(y_tr.shape[0],y_tr.shape[1], 1)[:,1:] ,epochs=50,callbacks=[es],batch_size=128, validation_data=([x_val,y_val[:,:-1]], y_val.reshape(y_val.shape[0],y_val.shape[1], 1)[:,1:]))"
      ],
      "execution_count": 58,
      "outputs": [
        {
          "output_type": "stream",
          "text": [
            "Epoch 1/50\n",
            "35/35 [==============================] - 105s 3s/step - loss: 3.5578 - val_loss: 2.3410\n",
            "Epoch 2/50\n",
            "35/35 [==============================] - 89s 3s/step - loss: 2.3296 - val_loss: 2.1319\n",
            "Epoch 3/50\n",
            "35/35 [==============================] - 90s 3s/step - loss: 2.1544 - val_loss: 2.0903\n",
            "Epoch 4/50\n",
            "35/35 [==============================] - 90s 3s/step - loss: 2.0849 - val_loss: 2.0575\n",
            "Epoch 5/50\n",
            "35/35 [==============================] - 90s 3s/step - loss: 2.0349 - val_loss: 2.0438\n",
            "Epoch 6/50\n",
            "35/35 [==============================] - 90s 3s/step - loss: 2.0115 - val_loss: 2.0155\n",
            "Epoch 7/50\n",
            "35/35 [==============================] - 90s 3s/step - loss: 1.9630 - val_loss: 2.0060\n",
            "Epoch 8/50\n",
            "35/35 [==============================] - 90s 3s/step - loss: 1.9457 - val_loss: 2.0169\n",
            "Epoch 9/50\n",
            "35/35 [==============================] - 90s 3s/step - loss: 1.9130 - val_loss: 1.9788\n",
            "Epoch 10/50\n",
            "35/35 [==============================] - 90s 3s/step - loss: 1.8731 - val_loss: 1.9508\n",
            "Epoch 11/50\n",
            "35/35 [==============================] - 89s 3s/step - loss: 1.8254 - val_loss: 1.9320\n",
            "Epoch 12/50\n",
            "35/35 [==============================] - 89s 3s/step - loss: 1.8134 - val_loss: 1.9295\n",
            "Epoch 13/50\n",
            "35/35 [==============================] - 90s 3s/step - loss: 1.7417 - val_loss: 1.9217\n",
            "Epoch 14/50\n",
            "35/35 [==============================] - 91s 3s/step - loss: 1.7114 - val_loss: 1.8947\n",
            "Epoch 15/50\n",
            "35/35 [==============================] - 90s 3s/step - loss: 1.6684 - val_loss: 1.9019\n",
            "Epoch 16/50\n",
            "35/35 [==============================] - 90s 3s/step - loss: 1.6403 - val_loss: 1.8974\n",
            "Epoch 00016: early stopping\n"
          ],
          "name": "stdout"
        }
      ]
    },
    {
      "cell_type": "markdown",
      "metadata": {
        "id": "Af2EQ7ljB_Xj"
      },
      "source": [
        "Now, we will plot a few diagnostic plots to understand the behavior of the model over time"
      ]
    },
    {
      "cell_type": "code",
      "metadata": {
        "colab": {
          "base_uri": "https://localhost:8080/",
          "height": 265
        },
        "id": "UR8oY7jWwBy-",
        "outputId": "4e2a2d79-ad7d-4725-d683-888e40b022f9"
      },
      "source": [
        "from matplotlib import pyplot\n",
        "pyplot.plot(history.history['loss'], label='train')\n",
        "pyplot.plot(history.history['val_loss'], label='test')\n",
        "pyplot.legend()\n",
        "pyplot.show()"
      ],
      "execution_count": 136,
      "outputs": [
        {
          "output_type": "display_data",
          "data": {
            "image/png": "[encoded data removed]",
            "text/plain": [
              "<Figure size 432x288 with 1 Axes>"
            ]
          },
          "metadata": {
            "tags": [],
            "needs_background": "light"
          }
        }
      ]
    },
    {
      "cell_type": "markdown",
      "metadata": {
        "id": "rf6YxrBDCZlA"
      },
      "source": [
        "From the plot, we can infer that validation loss has increased after epoch 14 for 2 successive epochs. Hence, training is stopped at epoch 16.\n",
        "\n",
        "Next, we are building the dictionary to convert the index to word for target and source vocabulary"
      ]
    },
    {
      "cell_type": "code",
      "metadata": {
        "id": "1i-U_7CvwKWH"
      },
      "source": [
        "reverse_target_word_index=y_tokenizer.index_word\n",
        "reverse_source_word_index=x_tokenizer.index_word\n",
        "target_word_index=y_tokenizer.word_index"
      ],
      "execution_count": 137,
      "outputs": []
    },
    {
      "cell_type": "markdown",
      "metadata": {
        "id": "-sHlgDmECnxb"
      },
      "source": [
        "Inference\n",
        "Set up the inference for the encoder and decoder:"
      ]
    },
    {
      "cell_type": "code",
      "metadata": {
        "id": "oXHwOhoIwT5a"
      },
      "source": [
        "# Encode the input sequence to get the feature vector\n",
        "encoder_model = Model(inputs=encoder_inputs,outputs=[encoder_outputs, state_h, state_c])\n",
        "\n",
        "# Decoder setup\n",
        "# Below tensors will hold the states of the previous time step\n",
        "decoder_state_input_h = Input(shape=(latent_dim,))\n",
        "decoder_state_input_c = Input(shape=(latent_dim,))\n",
        "decoder_hidden_state_input = Input(shape=(max_text_len,latent_dim))\n",
        "\n",
        "# Get the embeddings of the decoder sequence\n",
        "dec_emb2= dec_emb_layer(decoder_inputs) \n",
        "# To predict the next word in the sequence, set the initial states to the states from the previous time step\n",
        "decoder_outputs2, state_h2, state_c2 = decoder_lstm(dec_emb2, initial_state=[decoder_state_input_h, decoder_state_input_c])\n",
        "\n",
        "#attention inference\n",
        "attn_out_inf, attn_states_inf = attn_layer([decoder_hidden_state_input, decoder_outputs2])\n",
        "decoder_inf_concat = Concatenate(axis=-1, name='concat')([decoder_outputs2, attn_out_inf])\n",
        "\n",
        "# A dense softmax layer to generate prob dist. over the target vocabulary\n",
        "decoder_outputs2 = decoder_dense(decoder_inf_concat) \n",
        "\n",
        "# Final decoder model\n",
        "decoder_model = Model(\n",
        "    [decoder_inputs] + [decoder_hidden_state_input,decoder_state_input_h, decoder_state_input_c],\n",
        "    [decoder_outputs2] + [state_h2, state_c2])"
      ],
      "execution_count": 138,
      "outputs": []
    },
    {
      "cell_type": "markdown",
      "metadata": {
        "id": "0Huq8iBWCxCL"
      },
      "source": [
        "We are defining a function below which is the implementation of the inference process"
      ]
    },
    {
      "cell_type": "code",
      "metadata": {
        "id": "uU8vDR5WwV0c"
      },
      "source": [
        "def decode_sequence(input_seq):\n",
        "    # Encode the input as state vectors.\n",
        "    e_out, e_h, e_c = encoder_model.predict(input_seq)\n",
        "    \n",
        "    # Generate empty target sequence of length 1.\n",
        "    target_seq = np.zeros((1,1))\n",
        "    \n",
        "    # Populate the first word of target sequence with the start word.\n",
        "    target_seq[0, 0] = target_word_index['sostok']\n",
        "\n",
        "    stop_condition = False\n",
        "    decoded_sentence = ''\n",
        "    while not stop_condition:\n",
        "      \n",
        "        output_tokens, h, c = decoder_model.predict([target_seq] + [e_out, e_h, e_c])\n",
        "\n",
        "        # Sample a token\n",
        "        sampled_token_index = np.argmax(output_tokens[0, -1, :])\n",
        "        sampled_token = reverse_target_word_index[sampled_token_index]\n",
        "        \n",
        "        if(sampled_token!='eostok'):\n",
        "            decoded_sentence += ' '+sampled_token\n",
        "\n",
        "        # Exit condition: either hit max length or find stop word.\n",
        "        if (sampled_token == 'eostok'  or len(decoded_sentence.split()) >= (max_summary_len-1)):\n",
        "            stop_condition = True\n",
        "\n",
        "        # Update the target sequence (of length 1).\n",
        "        target_seq = np.zeros((1,1))\n",
        "        target_seq[0, 0] = sampled_token_index\n",
        "\n",
        "        # Update internal states\n",
        "        e_h, e_c = h, c\n",
        "\n",
        "    return decoded_sentence"
      ],
      "execution_count": 139,
      "outputs": []
    },
    {
      "cell_type": "markdown",
      "metadata": {
        "id": "s3r_HziOC4dP"
      },
      "source": [
        "We are defining the functions to convert an integer sequence to a word sequence for summary as well as the reviews:"
      ]
    },
    {
      "cell_type": "code",
      "metadata": {
        "id": "g3LGMFW2wgcE"
      },
      "source": [
        "def seq2summary(input_seq):\n",
        "    newString=''\n",
        "    for i in input_seq:\n",
        "        if((i!=0 and i!=target_word_index['sostok']) and i!=target_word_index['eostok']):\n",
        "            newString=newString+reverse_target_word_index[i]+' '\n",
        "    return newString\n",
        "\n",
        "def seq2text(input_seq):\n",
        "    newString=''\n",
        "    for i in input_seq:\n",
        "        if(i!=0):\n",
        "            newString=newString+reverse_source_word_index[i]+' '\n",
        "    return newString"
      ],
      "execution_count": 140,
      "outputs": []
    },
    {
      "cell_type": "markdown",
      "metadata": {
        "id": "ofqlS9-hC_te"
      },
      "source": [
        "Here are a few summaries generated by the model:"
      ]
    },
    {
      "cell_type": "code",
      "metadata": {
        "colab": {
          "base_uri": "https://localhost:8080/"
        },
        "id": "7NgtGlatwlp9",
        "outputId": "6204f5ab-2a3a-4930-f3d2-d3625485ba5e"
      },
      "source": [
        "for i in range(0,100):\n",
        "    print(\"Review:\",seq2text(x_tr[i]))\n",
        "    print(\"Original summary:\",seq2summary(y_tr[i]))\n",
        "    print(\"Predicted summary:\",decode_sequence(x_tr[i].reshape(1,max_text_len)))\n",
        "    print(\"\\n\")"
      ],
      "execution_count": 141,
      "outputs": [
        {
          "output_type": "stream",
          "text": [
            "Review: know cannot make tea good south know never enjoyed tea sweet without sweet tastes crisp \n",
            "Original summary: this is the best \n",
            "Predicted summary:  good tea\n",
            "\n",
            "\n",
            "Review: disappointing folks like say tofu flavor type watery product buy soon got shopping awful disappointing benefits packaging shelf life \n",
            "Original summary: soft for tofu \n",
            "Predicted summary:  great product\n",
            "\n",
            "\n",
            "Review: cup gf bisquick cup soy almond milk cup favorite fruit bake quick delicious gluten free bisquick quite fluffy crumbly original definitely worth gf \n",
            "Original summary: great for \n",
            "Predicted summary:  great product\n",
            "\n",
            "\n",
            "Review: love product best natural sweetener ever tried tried many use also pancake syrup substitute honey peanut butter honey sandwich last long time good value \n",
            "Original summary: the best \n",
            "Predicted summary:  great snack\n",
            "\n",
            "\n",
            "Review: best tasting brown rice ever kind nutty flavor rice ever tastes great \n",
            "Original summary: fantastic \n",
            "Predicted summary:  the best\n",
            "\n",
            "\n",
            "Review: best beer sausages come across taste like old time sausages used get bars younger wont take word ask friends \n",
            "Original summary: the best \n",
            "Predicted summary:  great taste\n",
            "\n",
            "\n",
            "Review: flavor horrible many flavors much better hawaiian hazelnut great breakfast bed awesome \n",
            "Original summary: not good at all \n",
            "Predicted summary:  not\n",
            "\n",
            "\n",
            "Review: panda good flavor texture shape best enough chew find bit dry much prefer big solid excellent natural licorice flavor satisfying right chew without gummy \n",
            "Original summary: ok but is much better \n",
            "Predicted summary:  good\n",
            "\n",
            "\n",
            "Review: would rated stars vinegar taste overall bad good snack \n",
            "Original summary: very good \n",
            "Predicted summary:  great product\n",
            "\n",
            "\n",
            "Review: dog food ran two weeks ago local source bought called see itching belly ordered amazon yesterday free shipping sent hours later recieved today \n",
            "Original summary: own organic dog food \n",
            "Predicted summary:  great for\n",
            "\n",
            "\n",
            "Review: ordered dark hot cocoa would real chocolatey better buying pouch hot chocolate adding hot water actually think pouch added hot water better whole lot cheaper price rip \n",
            "Original summary: not worth the \n",
            "Predicted summary:  great taste\n",
            "\n",
            "\n",
            "Review: cups son wanted price excellent flavor rich would recommend anyone wanting good cup instant hot cocoa \n",
            "Original summary: delicious \n",
            "Predicted summary:  great\n",
            "\n",
            "\n",
            "Review: made popcorn choice enjoy flavor size \n",
            "Original summary: baby white \n",
            "Predicted summary:  great product\n",
            "\n",
            "\n",
            "Review: hershey sugar free caramel filled chocolates good diabetic friendly chocolate candies fairly small tasty sweetened splenda blood sugar levels cause highly recommended \n",
            "Original summary: great candy highly \n",
            "Predicted summary:  good taste\n",
            "\n",
            "\n",
            "Review: know chia seeds really super food brand seems good quality bought kinds look better since eat sprinkled morning cereal expensive buy higher priced brand \n",
            "Original summary: good quality \n",
            "Predicted summary:  great product\n",
            "\n",
            "\n",
            "Review: must say put life back dog old offers vitamins getting food energy drops \n",
            "Original summary: is the best \n",
            "Predicted summary:  great product\n",
            "\n",
            "\n",
            "Review: really enjoy low calorie chips good flavor good crunch crisp ordering case chips one could order favorites whole flavors say flavors desired great product stop \n",
            "Original summary: yummy \n",
            "Predicted summary:  great taste\n",
            "\n",
            "\n",
            "Review: pleased venus fly trap received good shape came quickly lot fun feeding \n",
            "Original summary: good plant \n",
            "Predicted summary:  not\n",
            "\n",
            "\n",
            "Review: use powdered tea powder fruit smoothies provides health benefits green tea love product use plain lemon ginger \n",
            "Original summary: great \n",
            "Predicted summary:  great tea\n",
            "\n",
            "\n",
            "Review: carrot juice best tried many brands tastiest love carrot orange super veggie healthy great tasting get better \n",
            "Original summary: best ever \n",
            "Predicted summary:  great taste\n",
            "\n",
            "\n",
            "Review: ok soup expected love lobster bisque tried many different kinds different places one watery could find lobster guess ok price would never buy brand lobster bisque \n",
            "Original summary: too \n",
            "Predicted summary:  not\n",
            "\n",
            "\n",
            "Review: went check found ridiculous \n",
            "Original summary: almost bought \n",
            "Predicted summary:  not\n",
            "\n",
            "\n",
            "Review: difficult describe herbal type quick results takes really ok got ordered quickly \n",
            "Original summary: quick delivery \n",
            "Predicted summary:  great product\n",
            "\n",
            "\n",
            "Review: best thing look every morning makes day best tasting coffee ever \n",
            "Original summary: best coffee ever \n",
            "Predicted summary:  great coffee\n",
            "\n",
            "\n",
            "Review: taste great healthier alternative favorite sea salt vinegar probably order flavors since favorite eat potato chips often variety pack great get try \n",
            "Original summary: very happy \n",
            "Predicted summary:  great taste\n",
            "\n",
            "\n",
            "Review: plan reordering definitely edible filling since added chicken \n",
            "Original summary: for it is okay \n",
            "Predicted summary:  not\n",
            "\n",
            "\n",
            "Review: great tasting tea fact much better bags decaf irish breakfast tea drinker cannot find cups english breakfast cups tastes great \n",
            "Original summary: yum without the \n",
            "Predicted summary:  great tea\n",
            "\n",
            "\n",
            "Review: chocolate treat great gift arrived right expected gave girlfriend surprise gift absolutely loved \n",
            "Original summary: great item \n",
            "Predicted summary:  great product\n",
            "\n",
            "\n",
            "Review: tea good discovered visiting california moment got home searched local stores able find finally decided see amazon bought two boxes long make buy \n",
            "Original summary: tastes very good \n",
            "Predicted summary:  love the\n",
            "\n",
            "\n",
            "Review: taste nothing like cocoa taste never touch trying swiss miss cocoa maybe better luck \n",
            "Original summary: taste and smells like \n",
            "Predicted summary:  great\n",
            "\n",
            "\n",
            "Review: use syrup tea coffee cut fruit ice cream buy creamer add much cheaper alternative pre flavored coffee creamer \n",
            "Original summary: to favorites \n",
            "Predicted summary:  great tea\n",
            "\n",
            "\n",
            "Review: thin runny fake milk powder used add creaminess flavor better eating mug \n",
            "Original summary: not good \n",
            "Predicted summary:  not\n",
            "\n",
            "\n",
            "Review: creme brulee good homemade bother homemade get delicious box easier make \n",
            "Original summary: of the \n",
            "Predicted summary:  great\n",
            "\n",
            "\n",
            "Review: hot sauce one favorites perfect balance tasty spicy smell flavors immediately open bottle mix garlic habanero spices put everything tend go one bottle week highly recommend anyone likes hot sauce \n",
            "Original summary: awesome sauce \n",
            "Predicted summary:  great taste\n",
            "\n",
            "\n",
            "Review: hit gas eat pack chews within minutes feel energy never go ride without oh yeah taste pretty good \n",
            "Original summary: honey make the \n",
            "Predicted summary:  great product\n",
            "\n",
            "\n",
            "Review: recently started eating vegetarian meals product organic solid get ton water like get store bought tofu happy quality fast delivery \n",
            "Original summary: great product \n",
            "Predicted summary:  great product\n",
            "\n",
            "\n",
            "Review: right open bag get nose close smell know quality product instantly tastiest tea oolong orange great mix even tea drinker smell tea want try glad bought product favorite mine \n",
            "Original summary: smell it \n",
            "Predicted summary:  not\n",
            "\n",
            "\n",
            "Review: able much crackers easy spread put definitely enjoyed friends \n",
            "Original summary: loved it it loved it \n",
            "Predicted summary:  good\n",
            "\n",
            "\n",
            "Review: loves treats trick get seriously things make dog anything buy two bags \n",
            "Original summary: candy for dogs \n",
            "Predicted summary:  my cat loves it\n",
            "\n",
            "\n",
            "Review: looking mint green tea could carry mix want product perfect add little extra water taste looking mint green tea powder look \n",
            "Original summary: just as expected \n",
            "Predicted summary:  great tea\n",
            "\n",
            "\n",
            "Review: heard great things wanted try taste turned lot better anticipated actually gonna order pack continue drinking time trust \n",
            "Original summary: better taste than expected \n",
            "Predicted summary:  great product\n",
            "\n",
            "\n",
            "Review: salsa definitely one perfect blend pepper made perfect dip half time grown soooo hot small price pay jar perfect cream cheese dip across \n",
            "Original summary: salsa review \n",
            "Predicted summary:  great taste\n",
            "\n",
            "\n",
            "Review: crackers buy healthy good eat salad perfect lunch \n",
            "Original summary: love dr \n",
            "Predicted summary:  great product\n",
            "\n",
            "\n",
            "Review: smell rather smokey sure dogs would like rather particular love ordered \n",
            "Original summary: dogs love them \n",
            "Predicted summary:  great product\n",
            "\n",
            "\n",
            "Review: good value money good hot cocoa excellent however get coffee instant \n",
            "Original summary: great value \n",
            "Predicted summary:  great\n",
            "\n",
            "\n",
            "Review: tried brand bread mix bread machine good must say family best made potato bread scratch bread machine right nice flavor great texture well worth price bought times amazon continue \n",
            "Original summary: my mill bread mix \n",
            "Predicted summary:  great product\n",
            "\n",
            "\n",
            "Review: great mix mixed milk instead water follow directions \n",
            "Original summary: tasty great \n",
            "Predicted summary:  great product\n",
            "\n",
            "\n",
            "Review: fantastic bread mix use bread machine make bowl hand made problems know people problems terrific amazon please keep stock please \n",
            "Original summary: excellent bread mix \n",
            "Predicted summary:  great product\n",
            "\n",
            "\n",
            "Review: loves rabbit nice high protein treat addition regular diet price reasonable compared local pet store often item stock \n",
            "Original summary: our loves this \n",
            "Predicted summary:  my favorite\n",
            "\n",
            "\n",
            "Review: party send product enjoying unable purchase product obviously certain products available happy help want thank quick response sure look order future thank \n",
            "Original summary: you \n",
            "Predicted summary:  disappointed\n",
            "\n",
            "\n",
            "Review: purchased cups lids filters work exactly expected work perfectly lids cups used filters unfortunately cannot going looking future cups filters attached like regular prefilled good product though \n",
            "Original summary: cups and and my \n",
            "Predicted summary:  better\n",
            "\n",
            "\n",
            "Review: simply fell love chips refused share friends experience lot cheese chips salty little greasy side cheddar kettle really changed mind thanks amazon great buy store anymore \n",
            "Original summary: excellent of taste and \n",
            "Predicted summary:  great taste\n",
            "\n",
            "\n",
            "Review: annie great line food cheese great kids like grown ups like \n",
            "Original summary: great cheese \n",
            "Predicted summary:  great product\n",
            "\n",
            "\n",
            "Review: excellent bold medium blend decaf coffee special evening dark enough without bitter perfect compliment light \n",
            "Original summary: smooth cafe coffee \n",
            "Predicted summary:  coffee\n",
            "\n",
            "\n",
            "Review: two cats four dogs cats seemed like treat dogs turned one eats everything would touch tried left laying \n",
            "Original summary: do not like this one \n",
            "Predicted summary:  my cats it\n",
            "\n",
            "\n",
            "Review: wow smoked sticks incredibly salty could even eat half stick different people try problem terrible tastes like salt mouth avoid costs \n",
            "Original summary: way too salty \n",
            "Predicted summary:  no\n",
            "\n",
            "\n",
            "Review: like brownie mix usually use low fat recipe also add chocolate chips something else otherwise little bit dry still buy case \n",
            "Original summary: better some \n",
            "Predicted summary:  great product\n",
            "\n",
            "\n",
            "Review: best bears sell work get hands flavors pop mouth \n",
            "Original summary: the best ever \n",
            "Predicted summary:  great\n",
            "\n",
            "\n",
            "Review: really glad find tofu amazon eat tofu daily basis one best definitely buying regular basis \n",
            "Original summary: great tofu \n",
            "Predicted summary:  good\n",
            "\n",
            "\n",
            "Review: coconut flavored either like actually surprised since big fan coconut liked coffee favorite nice occasion \n",
            "Original summary: did not anywhere it was coconut \n",
            "Predicted summary:  not\n",
            "\n",
            "\n",
            "Review: balanced smooth light coffee great first cup day \n",
            "Original summary: smooth and light breakfast coffee \n",
            "Predicted summary:  not good coffee\n",
            "\n",
            "\n",
            "Review: bought chips reading good reviews disappointed taste nothing like expected bought flavor variety pack many flavors care worth trying going purchase future \n",
            "Original summary: not so great \n",
            "Predicted summary:  not\n",
            "\n",
            "\n",
            "Review: use audio works great home hooked super simple use gain nice \n",
            "Original summary: great little for \n",
            "Predicted summary:  great product\n",
            "\n",
            "\n",
            "Review: great taste tea bags much green thank packaging bulk \n",
            "Original summary: much better than tea bags \n",
            "Predicted summary:  great tea\n",
            "\n",
            "\n",
            "Review: ordered product dog loves one outside recieved one big melted ball thought would ship dry ice summer hot area dont order \n",
            "Original summary: do it \n",
            "Predicted summary:  my favorite\n",
            "\n",
            "\n",
            "Review: best chocolates ever tasted chocolates lover try \n",
            "Original summary: love it \n",
            "Predicted summary:  great\n",
            "\n",
            "\n",
            "Review: cereal difficult find stores appreciate able purchase amazon husband really likes looks forward every month seems like thing look forward little things count \n",
            "Original summary: cereal \n",
            "Predicted summary:  very good\n",
            "\n",
            "\n",
            "Review: husband twizzlers addict bought many times amazon living cannot get country always fresh tasty packed well arrive timely manner \n",
            "Original summary: always fresh \n",
            "Predicted summary:  great taste\n",
            "\n",
            "\n",
            "Review: go pamela like crazy fantastic pancakes also makes great chocolate chip cookies banana bread lb bag definately best way go value wise \n",
            "Original summary: best value \n",
            "Predicted summary:  great taste\n",
            "\n",
            "\n",
            "Review: could really taste bergamot tea slight orange peel taste since organic expected taste ok good regular earl grey brands organic superior either much higher price \n",
            "Original summary: not as good as \n",
            "Predicted summary:  good tea\n",
            "\n",
            "\n",
            "Review: coffee smooth yet robust taste bad aftertaste wolfgang puck coffee rodeo drive blend count cups keurig brewers \n",
            "Original summary: wolfgang puck keurig cup coffee \n",
            "Predicted summary:  wolfgang puck coffee\n",
            "\n",
            "\n",
            "Review: hard grow grew cat loved found seeds work well yet still looking would buy better luck growing \n",
            "Original summary: good for \n",
            "Predicted summary:  not\n",
            "\n",
            "\n",
            "Review: seems best brand tried others weak flavor one would truly recommend moms small children need hot chocolate grab enjoy \n",
            "Original summary: dark chocolate cocoa \n",
            "Predicted summary:  great taste\n",
            "\n",
            "\n",
            "Review: really great snack baseball son enjoy taking go road trip hold us till find good restaurant \n",
            "Original summary: great flavor \n",
            "Predicted summary:  great product\n",
            "\n",
            "\n",
            "Review: local grocer regular price expected fair market price placed order research extremely disappointed find live learn hope save someone else trouble make return \n",
            "Original summary: off \n",
            "Predicted summary:  do not waste money\n",
            "\n",
            "\n",
            "Review: purchased though local source four dollars pack sensitive msg delicious alternative salty snacks seasoning tasty thin seaweed crispy eat two three packs time calories per love \n",
            "Original summary: and \n",
            "Predicted summary:  great\n",
            "\n",
            "\n",
            "Review: healthy mixed terrier adores healthy breath smell teeth good shape products great healthy product \n",
            "Original summary: my dog loves these \n",
            "Predicted summary:  great product\n",
            "\n",
            "\n",
            "Review: local stopped carrying said could get product happy find amazon com \n",
            "Original summary: convenient way to get \n",
            "Predicted summary:  good\n",
            "\n",
            "\n",
            "Review: flavor quality chili great ounce mostly liquid number servings listed serve unless add ingredients first reviewer purchasing \n",
            "Original summary: soup \n",
            "Predicted summary:  not\n",
            "\n",
            "\n",
            "Review: found crisps local walmart figured would give try yummy may never go back regular chips big chip fan anyway problem eat entire bag one sitting give crisps big thumbs \n",
            "Original summary: yummy \n",
            "Predicted summary:  great taste\n",
            "\n",
            "\n",
            "Review: ingredients good cat loves never away surprised son cats decided rate cat point view \n",
            "Original summary: this is the one for \n",
            "Predicted summary:  my cat loves it\n",
            "\n",
            "\n",
            "Review: product gluten free diet price amazon com makes great buy \n",
            "Original summary: gf bisquick \n",
            "Predicted summary:  not\n",
            "\n",
            "\n",
            "Review: first time trying wolfgang puck coffee glad wonderful medium blend great time day would buy \n",
            "Original summary: wonderful coffee \n",
            "Predicted summary:  great coffee\n",
            "\n",
            "\n",
            "Review: love coffee aroma delicious flavor husband would typically cup coffee twice month cup several times week \n",
            "Original summary: great find \n",
            "Predicted summary:  great coffee\n",
            "\n",
            "\n",
            "Review: tried product personally dog loves well getting bit grey ever years ago \n",
            "Original summary: dog loves it \n",
            "Predicted summary:  great product\n",
            "\n",
            "\n",
            "Review: spent real kona coffee want kona blend sold hawaiian disappointing tasted nothing like kona everyday good \n",
            "Original summary: coffee review \n",
            "Predicted summary:  great coffee\n",
            "\n",
            "\n",
            "Review: dog many food allergies made usa treats free wheat corn egg dairy dog cannot get enough \n",
            "Original summary: my dog loves these healthy treats \n",
            "Predicted summary:  great dog food\n",
            "\n",
            "\n",
            "Review: great product subtle flavors delicate dishes smokey hearty cooking great product chef loves flavor kitchen cool product \n",
            "Original summary: fantastic for the \n",
            "Predicted summary:  great product\n",
            "\n",
            "\n",
            "Review: easy use chocolate premium hot cocoa mix double chocolate ounce great taste makes feel good \n",
            "Original summary: sweet from hard work on \n",
            "Predicted summary:  the best\n",
            "\n",
            "\n",
            "Review: love coffee always mixed decaf regular get caffeine buy perfect amount enjoy flavor coffee vacuum packages make easy store use keeps coffee fresh use another container works well \n",
            "Original summary: love it \n",
            "Predicted summary:  great coffee\n",
            "\n",
            "\n",
            "Review: people watching weight nutrition chips excellent substitute regular chips plenty protein well amazon price much cheaper buying packs local grocery store \n",
            "Original summary: save money \n",
            "Predicted summary:  good\n",
            "\n",
            "\n",
            "Review: taste good give lot pay meat high quality however expecting tin contain one medium sized rather small much like sardines packaged bit disappointing info could clear \n",
            "Original summary: pretty good \n",
            "Predicted summary:  great product\n",
            "\n",
            "\n",
            "Review: purchased product us sale son seems like previous post mold always double check food stir serve seems like recommend chicken sweet potato dinner \n",
            "Original summary: son to like it \n",
            "Predicted summary:  good\n",
            "\n",
            "\n",
            "Review: makes nasty loose poo dry food thing tried adult version puppy version gave adult dog puppy super soft \n",
            "Original summary: makes nasty \n",
            "Predicted summary:  good\n",
            "\n",
            "\n",
            "Review: gourmet chocolate chip cookie best chocolate chip cookie found grocery store firm soft good amount flavorful chocolate chips makes nice snack dessert eaten years house \n",
            "Original summary: our favorite chocolate chip cookie \n",
            "Predicted summary:  great chips\n",
            "\n",
            "\n",
            "Review: put two chia seeds bowl vanilla almond milk let sit couple hours makes seeds eat \n",
            "Original summary: they are chia seeds \n",
            "Predicted summary:  not\n",
            "\n",
            "\n",
            "Review: every time heated particular soup microwave container made popping sound popped tray fell spilled catch completely find eating noodles bottom left noodle end serving \n",
            "Original summary: at the of \n",
            "Predicted summary:  do not\n",
            "\n",
            "\n",
            "Review: great coffee dark bitter little chocolaty reminds get better price caribou coffee store however \n",
            "Original summary: yum \n",
            "Predicted summary:  great coffee\n",
            "\n",
            "\n",
            "Review: given keurig wedding present along several variety packs far wolfgang puck jamaica crazy favorite definitely repeat flavor \n",
            "Original summary: our favorite cup yet \n",
            "Predicted summary:  good coffee\n",
            "\n",
            "\n",
            "Review: fond coffee several local stores another brand order line cannot get store however amazon price high jar local stores \n",
            "Original summary: coffee but amazon price is too high \n",
            "Predicted summary:  good coffee\n",
            "\n",
            "\n"
          ],
          "name": "stdout"
        }
      ]
    }
  ]
}